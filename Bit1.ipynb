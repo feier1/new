{
 "cells": [
  {
   "cell_type": "code",
   "execution_count": 10,
   "metadata": {},
   "outputs": [
    {
     "name": "stdout",
     "output_type": "stream",
     "text": [
      "     A  B  C\n",
      "0  cat  0  A\n",
      "1  cat  1  A\n",
      "2  cat  1  B\n",
      "3  dog  1  A\n",
      "[1, 2, 3, 4, 5]\n",
      "     A  B  C\n",
      "2  cat  1  B\n",
      "3  dog  1  A\n",
      "bitger\n"
     ]
    }
   ],
   "source": [
    "#How do you handle duplicate values in a dataset in Python?#\n",
    "#remove duplicates#\n",
    "import numpy as np\n",
    "from collections import OrderedDict\n",
    "a = np.array([1,2,2,4,3,3,4,5])\n",
    "a_drop_duplicate = list(set(a))\n",
    "import pandas as pd\n",
    "df = pd.DataFrame({\"A\":[\"cat\", \"cat\", \"cat\", \"dog\"], \"B\":[0,1,1,1], \"C\":[\"A\",\"A\",\"B\",\"A\"]})\n",
    "df_frop_duplicate= df.drop_duplicates(subset=['A', 'C'], keep=False)\n",
    "print(df)\n",
    "print(a_drop_duplicate)\n",
    "print(df_frop_duplicate)\n",
    "#remove duplicate string#\n",
    "string = 'bittttigger'\n",
    "print (''.join(OrderedDict.fromkeys(string)))\n"
   ]
  },
  {
   "cell_type": "code",
   "execution_count": 67,
   "metadata": {
    "scrolled": true
   },
   "outputs": [
    {
     "name": "stdout",
     "output_type": "stream",
     "text": [
      "   receiver_id  requester_id        time\n",
      "0            1             1  2018-05-18\n",
      "1            2             2  2018-05-19\n",
      "2            3             3  2018-05-20\n",
      "   acceptor_id  requester_id        time\n",
      "0            1             1  2018-05-18\n",
      "1            2             2  2018-05-19\n",
      "2            4             4  2018-05-20\n"
     ]
    }
   ],
   "source": [
    "#You are given two tables - friend_request and request_accepted. Friend_request contains requester_id, \n",
    "#time and sent_to_id and request_accepted table contains time, acceptor_id and requestor_id. \n",
    "#How will you determine the overall acceptance rate of requests? \n",
    "friend_request = pd.DataFrame(\n",
    "    {\"requester_id\":[1,2,3],\n",
    "     \"time\":[\"2018-05-18\",\"2018-05-19\",\"2018-05-20\"],\n",
    "     \"receiver_id\":[1,2,3]}\n",
    ")\n",
    "request_accepted = pd.DataFrame(\n",
    "    {\"requester_id\":[1,2,4],\n",
    "     \"time\":[\"2018-05-18\",\"2018-05-19\",\"2018-05-20\"],\n",
    "     \"acceptor_id\":[1,2,4]}\n",
    ")\n",
    "print(friend_request)\n",
    "print(request_accepted)"
   ]
  },
  {
   "cell_type": "code",
   "execution_count": null,
   "metadata": {
    "collapsed": true
   },
   "outputs": [],
   "source": []
  },
  {
   "cell_type": "code",
   "execution_count": 14,
   "metadata": {
    "scrolled": true
   },
   "outputs": [
    {
     "name": "stdout",
     "output_type": "stream",
     "text": [
      "   receiver_id  requester_id      time_x  acceptor_id      time_y\n",
      "0          1.0             1  2017-07-01          1.0  2017-07-01\n",
      "1          2.0             2  2017-07-02          2.0  2017-07-02\n",
      "2          3.0             3  2017-07-03          NaN         NaN\n",
      "3          NaN             4         NaN          4.0  2017-07-05\n"
     ]
    }
   ],
   "source": [
    "newdata= pd.merge(friend_request,request_accepted,how='outer', on='requester_id')\n",
    "print(newdata)"
   ]
  },
  {
   "cell_type": "code",
   "execution_count": 44,
   "metadata": {},
   "outputs": [
    {
     "data": {
      "text/plain": [
       "0.75"
      ]
     },
     "execution_count": 44,
     "metadata": {},
     "output_type": "execute_result"
    }
   ],
   "source": [
    "len(newdata[\"acceptor_id\"][newdata.acceptor_id >0 ])/(len(newdata['acceptor_id']))"
   ]
  },
  {
   "cell_type": "code",
   "execution_count": 1,
   "metadata": {},
   "outputs": [
    {
     "ename": "OperationalError",
     "evalue": "table request_accepted1 already exists",
     "output_type": "error",
     "traceback": [
      "\u001b[0;31m---------------------------------------------------------------------------\u001b[0m",
      "\u001b[0;31mOperationalError\u001b[0m                          Traceback (most recent call last)",
      "\u001b[0;32m<ipython-input-1-b40a71cf5066>\u001b[0m in \u001b[0;36m<module>\u001b[0;34m()\u001b[0m\n\u001b[1;32m     18\u001b[0m receiver_id INTEGER);\"\"\"\n\u001b[1;32m     19\u001b[0m \u001b[0;34m\u001b[0m\u001b[0m\n\u001b[0;32m---> 20\u001b[0;31m \u001b[0mcursor\u001b[0m\u001b[0;34m.\u001b[0m\u001b[0mexecute\u001b[0m\u001b[0;34m(\u001b[0m\u001b[0msql_command\u001b[0m\u001b[0;34m)\u001b[0m\u001b[0;34m\u001b[0m\u001b[0m\n\u001b[0m\u001b[1;32m     21\u001b[0m \u001b[0;34m\u001b[0m\u001b[0m\n\u001b[1;32m     22\u001b[0m sql_command = \"\"\"INSERT INTO friend_request1(requester_id, time, receiver_id)\n",
      "\u001b[0;31mOperationalError\u001b[0m: table request_accepted1 already exists"
     ]
    }
   ],
   "source": [
    "#SQL#\n",
    "import sqlite3\n",
    "connection = sqlite3.connect(\"company.db\")\n",
    "\n",
    "cursor = connection.cursor()\n",
    "\n",
    "# delete \n",
    "sql_command = \"\"\"\n",
    "CREATE TABLE friend_request1  ( \n",
    "requester_id INTEGER, \n",
    "time DATE, \n",
    "receiver_id INTEGER);\"\"\"\n",
    "\n",
    "sql_command = \"\"\"\n",
    "CREATE TABLE request_accepted1 ( \n",
    "requester_id INTEGER, \n",
    "time DATE, \n",
    "receiver_id INTEGER);\"\"\"\n",
    "\n",
    "cursor.execute(sql_command)\n",
    "\n",
    "sql_command = \"\"\"INSERT INTO friend_request1(requester_id, time, receiver_id)\n",
    "    VALUES (1, \"2018-05-18\", \"1\");\"\"\"\n",
    "cursor.execute(sql_command)\n",
    "\n",
    "sql_command = \"\"\"INSERT INTO friend_request1(requester_id, time, receiver_id)\n",
    "    VALUES (2, \"2018-05-18\",2);\"\"\"\n",
    "\n",
    "sql_command = \"\"\"INSERT INTO request_accepted1 (requester_id, time, receiver_id)\n",
    "    VALUES (1, \"2018-05-18\", \"1\");\"\"\"\n",
    "sql_command = \"\"\"INSERT INTO request_accepted1 (requester_id, time, receiver_id)\n",
    "    VALUES (1, \"2018-05-19\", \"1\");\"\"\"\n",
    "sql_command = \"\"\"INSERT INTO request_accepted1 (requester_id, time, receiver_id)\n",
    "    VALUES (1, \"2018-05-17\", \"3\");\"\"\"\n",
    "\n",
    "cursor.execute(sql_command)\n",
    "crsr.execute(\"SELECT * FROM request_accepted\")\n",
    "###\n"
   ]
  },
  {
   "cell_type": "code",
   "execution_count": 3,
   "metadata": {},
   "outputs": [
    {
     "data": {
      "text/plain": [
       "<sqlite3.Cursor at 0x106e25b90>"
      ]
     },
     "execution_count": 3,
     "metadata": {},
     "output_type": "execute_result"
    }
   ],
   "source": [
    "cursor.execute(\"SELECT * FROM request_accepted\")"
   ]
  },
  {
   "cell_type": "code",
   "execution_count": 47,
   "metadata": {},
   "outputs": [
    {
     "data": {
      "text/html": [
       "<div>\n",
       "<style>\n",
       "    .dataframe thead tr:only-child th {\n",
       "        text-align: right;\n",
       "    }\n",
       "\n",
       "    .dataframe thead th {\n",
       "        text-align: left;\n",
       "    }\n",
       "\n",
       "    .dataframe tbody tr th {\n",
       "        vertical-align: top;\n",
       "    }\n",
       "</style>\n",
       "<table border=\"1\" class=\"dataframe\">\n",
       "  <thead>\n",
       "    <tr style=\"text-align: right;\">\n",
       "      <th></th>\n",
       "      <th>country</th>\n",
       "      <th>date</th>\n",
       "      <th>experiment_id</th>\n",
       "      <th>order_id</th>\n",
       "      <th>spend_usd</th>\n",
       "      <th>user_id</th>\n",
       "      <th>vertical</th>\n",
       "    </tr>\n",
       "  </thead>\n",
       "  <tbody>\n",
       "    <tr>\n",
       "      <th>0</th>\n",
       "      <td>JP</td>\n",
       "      <td>20170402</td>\n",
       "      <td>12624548</td>\n",
       "      <td>5813140433216629693</td>\n",
       "      <td>16.138855</td>\n",
       "      <td>5006730028073359543</td>\n",
       "      <td>ANDROID_APPS</td>\n",
       "    </tr>\n",
       "    <tr>\n",
       "      <th>1</th>\n",
       "      <td>US</td>\n",
       "      <td>20170403</td>\n",
       "      <td>12624549</td>\n",
       "      <td>16333056276711034931</td>\n",
       "      <td>9.990000</td>\n",
       "      <td>5938685669571545259</td>\n",
       "      <td>ANDROID_APPS</td>\n",
       "    </tr>\n",
       "    <tr>\n",
       "      <th>2</th>\n",
       "      <td>JP</td>\n",
       "      <td>20170404</td>\n",
       "      <td>12624548</td>\n",
       "      <td>11227119161741298366</td>\n",
       "      <td>19.887087</td>\n",
       "      <td>17623708458399141713</td>\n",
       "      <td>ANDROID_APPS</td>\n",
       "    </tr>\n",
       "    <tr>\n",
       "      <th>3</th>\n",
       "      <td>US</td>\n",
       "      <td>20170403</td>\n",
       "      <td>12624548</td>\n",
       "      <td>11927299833124210932</td>\n",
       "      <td>19.990000</td>\n",
       "      <td>18042812344456618148</td>\n",
       "      <td>ANDROID_APPS</td>\n",
       "    </tr>\n",
       "    <tr>\n",
       "      <th>4</th>\n",
       "      <td>JP</td>\n",
       "      <td>20170403</td>\n",
       "      <td>12624549</td>\n",
       "      <td>11644727017708872749</td>\n",
       "      <td>88.220093</td>\n",
       "      <td>4325104700699531031</td>\n",
       "      <td>ANDROID_APPS</td>\n",
       "    </tr>\n",
       "  </tbody>\n",
       "</table>\n",
       "</div>"
      ],
      "text/plain": [
       "  country      date  experiment_id              order_id  spend_usd  \\\n",
       "0      JP  20170402       12624548   5813140433216629693  16.138855   \n",
       "1      US  20170403       12624549  16333056276711034931   9.990000   \n",
       "2      JP  20170404       12624548  11227119161741298366  19.887087   \n",
       "3      US  20170403       12624548  11927299833124210932  19.990000   \n",
       "4      JP  20170403       12624549  11644727017708872749  88.220093   \n",
       "\n",
       "                user_id      vertical  \n",
       "0   5006730028073359543  ANDROID_APPS  \n",
       "1   5938685669571545259  ANDROID_APPS  \n",
       "2  17623708458399141713  ANDROID_APPS  \n",
       "3  18042812344456618148  ANDROID_APPS  \n",
       "4   4325104700699531031  ANDROID_APPS  "
      ]
     },
     "execution_count": 47,
     "metadata": {},
     "output_type": "execute_result"
    }
   ],
   "source": [
    "#data#\n",
    "file_location = \"/Users/feichen/Desktop/simon course/jobs/bittiger/\"\n",
    "file_name = \"BA501_python_data.csv\"\n",
    "data = pd.read_csv(file_location + file_name)\n",
    "data.head(5)"
   ]
  },
  {
   "cell_type": "code",
   "execution_count": 57,
   "metadata": {},
   "outputs": [
    {
     "name": "stdout",
     "output_type": "stream",
     "text": [
      "VISA\n",
      "None\n",
      "VISA\n",
      "None\n",
      "AMEX\n",
      "None\n",
      "AMEX\n",
      "None\n",
      "None\n",
      "Diners Club\n",
      "None\n",
      "None\n"
     ]
    }
   ],
   "source": [
    "#write Python scripts to identify the issuer of the following credit card numbers#\n",
    "def issuer(cc):\n",
    "    if (cc[0:1]=='4') and (len(cc)==16):\n",
    "        print(\"VISA\")\n",
    "    elif (cc[0:2]=='34' or '37') and (len(cc)==15):\n",
    "        print(\"AMEX\")\n",
    "    elif (cc[0:2]=='36') and (len(cc)==14):\n",
    "        print(\"Diners Club\")\n",
    "\n",
    "\n",
    "word_c = ['4175004175004172', \n",
    "         '4917491749174917',\n",
    "         '346416800707698',\n",
    "         '376416800707698',\n",
    "         '37641680070769832112',\n",
    "         '36641680070769',\n",
    "         '54545641680070769']\n",
    "for cc in word_c:\n",
    "         print(issuer(cc))"
   ]
  },
  {
   "cell_type": "code",
   "execution_count": 29,
   "metadata": {},
   "outputs": [
    {
     "data": {
      "text/plain": [
       "[<matplotlib.lines.Line2D at 0x10c250d68>]"
      ]
     },
     "execution_count": 29,
     "metadata": {},
     "output_type": "execute_result"
    }
   ],
   "source": [
    "#write a Python function called PrintCumulativeTimeSeries()\n",
    "#The function takes three inputs:\n",
    "#experiment_id\n",
    "#country\n",
    "#vertical\n",
    "#The function produces two outputs:\n",
    "#A time series chart showing the cumulative uplift (hint: search for cumsum)\n",
    "#Print out the cumulative % uplift on revenue, experiment vs. control. Hint: (red - blue) / blue %\n",
    "from IPython.display import display\n",
    "from IPython.display import HTML\n",
    "import IPython.core.display as di\n",
    "import numpy as np\n",
    "import pandas as pd\n",
    "import scipy\n",
    "import matplotlib.pyplot as plt\n",
    "#get file#\n",
    "file_location = \"/Users/feichen/Desktop/simon course/jobs/bittiger/\"\n",
    "file_name = \"BA501_python_data.csv\"\n",
    "data = pd.read_csv(file_location + file_name)\n",
    "data.date = pd.to_datetime(data.date, format='%Y%m%d')\n",
    "np.unique(data[\"experiment_id\"])\n",
    "\n",
    "red_button = np.unique(data[\"experiment_id\"])[0]\n",
    "blue_button = np.unique(data[\"experiment_id\"])[1]\n",
    "# subset the data\n",
    "red_button_data = data[['date','spend_usd']][data.experiment_id == red_button]\n",
    "blue_button_data = data[['date','spend_usd']][data.experiment_id == blue_button]\n",
    "red_ts = red_button_data.groupby('date')['spend_usd'].cumsum()\n",
    "blue_ts = blue_button_data.groupby('date')['spend_usd'].cumsum()\n",
    "plt.plot(red_ts, color=\"red\", label=\"red\")\n",
    "plt.plot(blue_ts, color=\"blue\", label = \"blue\")"
   ]
  },
  {
   "cell_type": "code",
   "execution_count": 31,
   "metadata": {},
   "outputs": [],
   "source": [
    "def PrintCumulativeTimeSeries(my_data, experiment_ids, country):\n",
    "    # data grouping\n",
    "    my_data = my_data.sort_values(\"date\", ascending=True, inplace=False)\n",
    "    treatment_series = GetCumulativeSeries(my_data, experiment_ids[0], country)[0]\n",
    "    treatment_revenue = GetCumulativeSeries(my_data, experiment_ids[0], country)[1]\n",
    "    control_series = GetCumulativeSeries(my_data, experiment_ids[1], country)[0]\n",
    "    control_revenue = GetCumulativeSeries(my_data, experiment_ids[1], country)[1]\n",
    "    \n",
    "    print(\"Cumulative revenue impact: \" + str(treatment_revenue/control_revenue*100-100) + \"%\")\n",
    "    PlotSeries(treatment_series, control_series)"
   ]
  },
  {
   "cell_type": "code",
   "execution_count": 32,
   "metadata": {},
   "outputs": [
    {
     "name": "stdout",
     "output_type": "stream",
     "text": [
      "Cumulative revenue impact: -2.46850453816%\n"
     ]
    }
   ],
   "source": [
    "PrintCumulativeTimeSeries(my_data, [12624548,12624549], \"JP\")"
   ]
  },
  {
   "cell_type": "code",
   "execution_count": null,
   "metadata": {
    "collapsed": true
   },
   "outputs": [],
   "source": []
  }
 ],
 "metadata": {
  "kernelspec": {
   "display_name": "Python 3",
   "language": "python",
   "name": "python3"
  },
  "language_info": {
   "codemirror_mode": {
    "name": "ipython",
    "version": 3
   },
   "file_extension": ".py",
   "mimetype": "text/x-python",
   "name": "python",
   "nbconvert_exporter": "python",
   "pygments_lexer": "ipython3",
   "version": "3.6.3"
  }
 },
 "nbformat": 4,
 "nbformat_minor": 2
}
